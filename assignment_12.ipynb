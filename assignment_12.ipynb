{
 "cells": [
  {
   "cell_type": "code",
   "execution_count": null,
   "id": "b8d63c23",
   "metadata": {},
   "outputs": [],
   "source": [
    "!git clone https://github.com/gunthercox/ChatterBot.git\n",
    "%cd ChatterBot\n",
    "!pip install -e .\n",
    "from chatterbot import ChatBot\n",
    "from chatterbot.trainers import ListTrainer\n",
    "\n",
    "print(\"ChatterBot is working on Colab!\")"
   ]
  },
  {
   "cell_type": "code",
   "execution_count": null,
   "id": "f1637372",
   "metadata": {},
   "outputs": [],
   "source": [
    "healthbot = ChatBot(\n",
    "    \"HealthBot\",\n",
    "    read_only=True,\n",
    "    logic_adapters=[\n",
    "        \"chatterbot.logic.BestMatch\",\n",
    "        \"chatterbot.logic.MathematicalEvaluation\"\n",
    "    ]\n",
    ")"
   ]
  },
  {
   "cell_type": "code",
   "execution_count": null,
   "id": "c12de59a",
   "metadata": {},
   "outputs": [],
   "source": [
    "trainer = ListTrainer(healthbot)\n",
    "dialogue = {\n",
    "    \"Hi\": \"Hello! I am HealthBot. How can I assist you today?\",\n",
    "    \"Hello\": \"Hi! Do you have a health-related question?\",\n",
    "    \"I have a headache\": \"You should rest, stay hydrated, and take a mild pain reliever if needed.\",\n",
    "    \"What should I do if I have a fever?\": \"Drink plenty of fluids and rest. If the fever persists, please consult a doctor.\",\n",
    "    \"I feel dizzy\": \"Sit down, breathe deeply, and drink water. If it continues, seek medical help.\",\n",
    "    \"What should I eat for a cold?\": \"Warm fluids, soups, citrus fruits, and light meals help during a cold.\",\n",
    "    \"How to stay healthy?\": \"Eat balanced meals, exercise regularly, stay hydrated, and get enough sleep.\",\n",
    "    \"What should I do in case of a cut?\": \"Clean the wound with water, apply antiseptic, and cover it with a clean bandage.\",\n",
    "    \"How much water should I drink daily?\": \"Generally, 2 to 3 liters per day is recommended, but it varies based on your activity.\",\n",
    "    \"Thank you\": \"You’re welcome! Take care.\",\n",
    "    \"Bye\": \"Goodbye! Stay healthy.\"\n",
    "}\n",
    "pairs = [msg for item in dialogue.items() for msg in item]\n",
    "trainer.train(pairs)\n",
    "print(\"HealthBot training complete.\")"
   ]
  },
  {
   "cell_type": "code",
   "execution_count": null,
   "id": "9d306ed0",
   "metadata": {},
   "outputs": [],
   "source": [
    "print(\"Ask something to HealthBot (type 'exit' to end):\")\n",
    "\n",
    "while True:\n",
    "    user_input = input(\"You: \")\n",
    "    if user_input.lower() == 'exit':\n",
    "        print(\"HealthBot: Bye! Stay healthy.\")\n",
    "        break\n",
    "    response = healthbot.get_response(user_input)\n",
    "    print(f\"HealthBot: {response}\")"
   ]
  }
 ],
 "metadata": {},
 "nbformat": 4,
 "nbformat_minor": 5
}
